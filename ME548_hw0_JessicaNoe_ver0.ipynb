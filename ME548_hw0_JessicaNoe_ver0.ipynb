{
  "nbformat": 4,
  "nbformat_minor": 0,
  "metadata": {
    "colab": {
      "name": "548-wi19-hw0.ipynb",
      "version": "0.3.2",
      "provenance": [],
      "collapsed_sections": [],
      "include_colab_link": true
    },
    "kernelspec": {
      "display_name": "Python [Root]",
      "language": "python",
      "name": "Python [Root]"
    }
  },
  "cells": [
    {
      "cell_type": "markdown",
      "metadata": {
        "id": "view-in-github",
        "colab_type": "text"
      },
      "source": [
        "<a href=\"https://colab.research.google.com/github/JessicaNoe/ME548/blob/master/ME548_hw0_JessicaNoe_ver0.ipynb\" target=\"_parent\"><img src=\"https://colab.research.google.com/assets/colab-badge.svg\" alt=\"Open In Colab\"/></a>"
      ]
    },
    {
      "metadata": {
        "id": "4qz2av61Xgua",
        "colab_type": "text"
      },
      "cell_type": "markdown",
      "source": [
        "# 548 hw0 due 2p Thu Jan 10 on Canvas\n",
        "\n",
        "This assignment will be graded on participation; so long as you make an effort on each problem and upload a legible pdf to Canvas, you will receive full credit\n",
        "\n",
        "**Important:** before you do any work in this Colaboratory notebook, click \"File -> Save a copy in Drive ...\" and rename the file to something memorable.\n",
        "\n",
        "**Also important:** To produce a .pdf for submission to Canvas from this Colaboratory notebook, click \"File -> Print\" (or press Ctrl/Cmd + P), and choose \"Save to PDF\" or \"Microsoft Print to PDF\" as your printer.\n",
        "\n",
        "**Do us a favor:**  write the number of hours you spent on this assignment at the top of your writeup (and note if any particular subproblem(s) took much longer than the others)."
      ]
    },
    {
      "metadata": {
        "id": "UWtcsgf5Xgub",
        "colab_type": "text"
      },
      "cell_type": "markdown",
      "source": [
        "# welcome to Linear Multivariable Control\n",
        "\n",
        "a. What were you doing before you enrolled in your current program?\n",
        "\n",
        "b. What do you hope to do after you graduate?\n",
        "\n",
        "c. Why did you enroll in this course?\n",
        "\n",
        "d. What do you hope to learn in this course?\n",
        "\n",
        "e. Where did you take graduate-level linear systems theory, and what textbook(s) did you use?\n",
        "\n",
        "f. What is/are your preferred scientific computing tool(s)?  (e.g. Python, Julia, Matlab, ...)\n",
        "\n",
        "g. Log in to Canvas and edit your Profile; add a headshot photo and specify your preferred name and pronouns.  (see my example at https://canvas.uw.edu/about/3510568)"
      ]
    },
    {
      "metadata": {
        "id": "EXoqDMjRY6WD",
        "colab_type": "code",
        "colab": {}
      },
      "cell_type": "code",
      "source": [
        ""
      ],
      "execution_count": 0,
      "outputs": []
    }
  ]
}