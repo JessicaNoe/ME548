{
  "nbformat": 4,
  "nbformat_minor": 0,
  "metadata": {
    "colab": {
      "name": "548-wi19-hw0.ipynb",
      "version": "0.3.2",
      "provenance": [],
      "collapsed_sections": [],
      "include_colab_link": true
    },
    "kernelspec": {
      "display_name": "Python [Root]",
      "language": "python",
      "name": "Python [Root]"
    }
  },
  "cells": [
    {
      "cell_type": "markdown",
      "metadata": {
        "id": "view-in-github",
        "colab_type": "text"
      },
      "source": [
        "<a href=\"https://colab.research.google.com/github/JessicaNoe/ME548/blob/master/ME548_hw0_JessicaNoe_ver0.ipynb\" target=\"_parent\"><img src=\"https://colab.research.google.com/assets/colab-badge.svg\" alt=\"Open In Colab\"/></a>"
      ]
    },
    {
      "metadata": {
        "id": "4qz2av61Xgua",
        "colab_type": "text"
      },
      "cell_type": "markdown",
      "source": [
        "# 548 hw0 due 2p Thu Jan 10 on Canvas\n",
        "\n",
        "This assignment will be graded on participation; so long as you make an effort on each problem and upload a legible pdf to Canvas, you will receive full credit\n",
        "\n",
        "**Important:** before you do any work in this Colaboratory notebook, click \"File -> Save a copy in Drive ...\" and rename the file to something memorable.\n",
        "\n",
        "**Also important:** To produce a .pdf for submission to Canvas from this Colaboratory notebook, click \"File -> Print\" (or press Ctrl/Cmd + P), and choose \"Save to PDF\" or \"Microsoft Print to PDF\" as your printer.\n",
        "\n",
        "**Do us a favor:**  write the number of hours you spent on this assignment at the top of your writeup (and note if any particular subproblem(s) took much longer than the others)."
      ]
    },
    {
      "metadata": {
        "id": "UWtcsgf5Xgub",
        "colab_type": "text"
      },
      "cell_type": "markdown",
      "source": [
        "# Welcome to Linear Multivariable Control\n"
      ]
    },
    {
      "metadata": {
        "id": "VQ1wjnptcc4w",
        "colab_type": "text"
      },
      "cell_type": "markdown",
      "source": [
        "# Responses inline:\n",
        "\n",
        "a. What were you doing before you enrolled in your current program?\n",
        "\n",
        "> I worked in manufacturing for 10 years and discovered engineers have the most interesting problems to solve. I came to UW in 2014 to complete my bachelor's degree in mechanical engineering. I was on the competition underwater robotics team and graduated from the ME dept with an emphasis in mechatronics and minor in oceanography.\n",
        "\n",
        "> I have been with the UW ME department's Marine Renewable Energy Lab since 2016. I was a UW staff engineer for the lab during a gap year between graduating in June 2017 and beginning the ME master's program in Fall 2018. I build instruments for oceanographic measurements.\n",
        "\n",
        "b. What do you hope to do after you graduate?\n",
        "\n",
        "> I hope to continuing building instrumentation and robots for oceanography and marine applications. I would like to work at a research institue like the UW, APL-UW, Monterey Bay Aquarium Research Institute, Scripps or Schmidt Ocean Institutes.\n",
        "\n",
        "c. Why did you enroll in this course?\n",
        "\n",
        "> I would like to continue building my understanding of control theory. Controlling a robot or instrument to move it through the ocean can sometimes require a more complex control system than a simple PID controller. Multivariable control sounded useful.\n",
        "\n",
        "d. What do you hope to learn in this course?\n",
        "\n",
        "> I hope to learn some methods applicable to real world control situations where one or more states must be estimated using multiple sensor inputs and the control system must be able to generate a control signal for multiple actuators.\n",
        "\n",
        "e. Where did you take graduate-level linear systems theory, and what textbook(s) did you use?\n",
        "\n",
        "> In Fall 2018 I took ME547 Linear Systems Theory, using Linear Systems Theory and Design by Chi-Tsong Chen.\n",
        "\n",
        "f. What is/are your preferred scientific computing tool(s)?  (e.g. Python, Julia, Matlab, ...)\n",
        "\n",
        "> I have used Matlab for my engingeering and math coursework. It is also the preferred tool in my lab, so I have done some analysis and figure generation in Matlab. I have used Python in oceanography and data-science coursework. Fall 2018 I was able to take an introduction to Python for data analysis and became more familiar with Python and Github.\n",
        "\n",
        "g. Log in to Canvas and edit your Profile; add a headshot photo and specify your preferred name and pronouns.  (see my example at https://canvas.uw.edu/about/3510568)\n",
        "\n",
        "> Done."
      ]
    }
  ]
}